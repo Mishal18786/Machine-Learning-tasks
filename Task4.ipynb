{
 "cells": [
  {
   "cell_type": "code",
   "execution_count": 59,
   "id": "86d2137f-cbee-4067-87a1-9e40919e8347",
   "metadata": {},
   "outputs": [],
   "source": [
    "import sklearn.datasets \n",
    "from sklearn.model_selection import train_test_split\n",
    "from sklearn.ensemble import RandomForestClassifier\n",
    "from sklearn.linear_model import LogisticRegression\n",
    "from sklearn.neighbors import KNeighborsClassifier\n",
    "from sklearn.tree import DecisionTreeClassifier\n",
    "from sklearn.metrics import accuracy_score, classification_report\n",
    "from sklearn.preprocessing import LabelEncoder\n",
    "from sklearn.svm import SVC\n",
    "import seaborn as sns"
   ]
  },
  {
   "cell_type": "code",
   "execution_count": 2,
   "id": "19c5fbcc-f036-4b77-90d3-ffcdc64addcd",
   "metadata": {},
   "outputs": [],
   "source": [
    "import numpy as np \n",
    "import pandas as pd "
   ]
  },
  {
   "cell_type": "code",
   "execution_count": 29,
   "id": "7a44c701-f3c0-4ab4-876a-5fae305be007",
   "metadata": {},
   "outputs": [],
   "source": [
    "df = pd.read_csv('spam.csv', encoding='latin1')"
   ]
  },
  {
   "cell_type": "code",
   "execution_count": 30,
   "id": "2e363ff3-6bd9-4f32-a93f-c200bec9a702",
   "metadata": {},
   "outputs": [
    {
     "data": {
      "text/html": [
       "<div>\n",
       "<style scoped>\n",
       "    .dataframe tbody tr th:only-of-type {\n",
       "        vertical-align: middle;\n",
       "    }\n",
       "\n",
       "    .dataframe tbody tr th {\n",
       "        vertical-align: top;\n",
       "    }\n",
       "\n",
       "    .dataframe thead th {\n",
       "        text-align: right;\n",
       "    }\n",
       "</style>\n",
       "<table border=\"1\" class=\"dataframe\">\n",
       "  <thead>\n",
       "    <tr style=\"text-align: right;\">\n",
       "      <th></th>\n",
       "      <th>v1</th>\n",
       "      <th>v2</th>\n",
       "      <th>Unnamed: 2</th>\n",
       "      <th>Unnamed: 3</th>\n",
       "      <th>Unnamed: 4</th>\n",
       "    </tr>\n",
       "  </thead>\n",
       "  <tbody>\n",
       "    <tr>\n",
       "      <th>0</th>\n",
       "      <td>ham</td>\n",
       "      <td>Go until jurong point, crazy.. Available only ...</td>\n",
       "      <td>NaN</td>\n",
       "      <td>NaN</td>\n",
       "      <td>NaN</td>\n",
       "    </tr>\n",
       "    <tr>\n",
       "      <th>1</th>\n",
       "      <td>ham</td>\n",
       "      <td>Ok lar... Joking wif u oni...</td>\n",
       "      <td>NaN</td>\n",
       "      <td>NaN</td>\n",
       "      <td>NaN</td>\n",
       "    </tr>\n",
       "    <tr>\n",
       "      <th>2</th>\n",
       "      <td>spam</td>\n",
       "      <td>Free entry in 2 a wkly comp to win FA Cup fina...</td>\n",
       "      <td>NaN</td>\n",
       "      <td>NaN</td>\n",
       "      <td>NaN</td>\n",
       "    </tr>\n",
       "    <tr>\n",
       "      <th>3</th>\n",
       "      <td>ham</td>\n",
       "      <td>U dun say so early hor... U c already then say...</td>\n",
       "      <td>NaN</td>\n",
       "      <td>NaN</td>\n",
       "      <td>NaN</td>\n",
       "    </tr>\n",
       "    <tr>\n",
       "      <th>4</th>\n",
       "      <td>ham</td>\n",
       "      <td>Nah I don't think he goes to usf, he lives aro...</td>\n",
       "      <td>NaN</td>\n",
       "      <td>NaN</td>\n",
       "      <td>NaN</td>\n",
       "    </tr>\n",
       "  </tbody>\n",
       "</table>\n",
       "</div>"
      ],
      "text/plain": [
       "     v1                                                 v2 Unnamed: 2  \\\n",
       "0   ham  Go until jurong point, crazy.. Available only ...        NaN   \n",
       "1   ham                      Ok lar... Joking wif u oni...        NaN   \n",
       "2  spam  Free entry in 2 a wkly comp to win FA Cup fina...        NaN   \n",
       "3   ham  U dun say so early hor... U c already then say...        NaN   \n",
       "4   ham  Nah I don't think he goes to usf, he lives aro...        NaN   \n",
       "\n",
       "  Unnamed: 3 Unnamed: 4  \n",
       "0        NaN        NaN  \n",
       "1        NaN        NaN  \n",
       "2        NaN        NaN  \n",
       "3        NaN        NaN  \n",
       "4        NaN        NaN  "
      ]
     },
     "execution_count": 30,
     "metadata": {},
     "output_type": "execute_result"
    }
   ],
   "source": [
    "df.head()"
   ]
  },
  {
   "cell_type": "code",
   "execution_count": 31,
   "id": "9ffc8583-278b-449f-8398-ef3cfa3b80fa",
   "metadata": {},
   "outputs": [
    {
     "data": {
      "text/plain": [
       "(5572, 5)"
      ]
     },
     "execution_count": 31,
     "metadata": {},
     "output_type": "execute_result"
    }
   ],
   "source": [
    "df.shape"
   ]
  },
  {
   "cell_type": "code",
   "execution_count": 32,
   "id": "f530198e-615a-4cb5-a779-8aa5953b6389",
   "metadata": {},
   "outputs": [
    {
     "data": {
      "text/plain": [
       "v1               0\n",
       "v2               0\n",
       "Unnamed: 2    5522\n",
       "Unnamed: 3    5560\n",
       "Unnamed: 4    5566\n",
       "dtype: int64"
      ]
     },
     "execution_count": 32,
     "metadata": {},
     "output_type": "execute_result"
    }
   ],
   "source": [
    "df.isnull().sum()"
   ]
  },
  {
   "cell_type": "code",
   "execution_count": 33,
   "id": "fdc3e4e5-dc05-4779-8000-054a6edc8b7f",
   "metadata": {},
   "outputs": [
    {
     "data": {
      "text/plain": [
       "Unnamed: 2\n",
       " PO Box 5249                                            2\n",
       "this wont even start........ Datz confidence..\"         2\n",
       "GN                                                      2\n",
       " don't miss ur best life for anything... Gud nyt...\"    2\n",
       "Name: count, dtype: int64"
      ]
     },
     "execution_count": 33,
     "metadata": {},
     "output_type": "execute_result"
    }
   ],
   "source": [
    "df['Unnamed: 2'].value_counts()[1:5]"
   ]
  },
  {
   "cell_type": "code",
   "execution_count": 34,
   "id": "7e0a04e4-f027-4df8-bc7e-17a082cce4e4",
   "metadata": {},
   "outputs": [
    {
     "data": {
      "text/plain": [
       "Unnamed: 3\n",
       "GE                                          2\n",
       " why to miss them                           1\n",
       "U NO THECD ISV.IMPORTANT TOME 4 2MORO\\\"\"    1\n",
       "i wil tolerat.bcs ur my someone..... But    1\n",
       "Name: count, dtype: int64"
      ]
     },
     "execution_count": 34,
     "metadata": {},
     "output_type": "execute_result"
    }
   ],
   "source": [
    "df['Unnamed: 3'].value_counts()[1:5]"
   ]
  },
  {
   "cell_type": "code",
   "execution_count": 35,
   "id": "13a85735-65bd-454f-b03d-a6ba685a27a3",
   "metadata": {},
   "outputs": [
    {
     "data": {
      "text/plain": [
       "Unnamed: 4\n",
       "just Keep-in-touch\\\" gdeve..\"                              1\n",
       "Never comfort me with a lie\\\" gud ni8 and sweet dreams\"    1\n",
       "CALL 2MWEN IM BK FRMCLOUD 9! J X\\\"\"                        1\n",
       "one day these two will become FREINDS FOREVER!\"            1\n",
       "Name: count, dtype: int64"
      ]
     },
     "execution_count": 35,
     "metadata": {},
     "output_type": "execute_result"
    }
   ],
   "source": [
    "df['Unnamed: 4'].value_counts()[1:5]"
   ]
  },
  {
   "cell_type": "code",
   "execution_count": 37,
   "id": "f3002c5c-90c5-4555-a4f0-e44672c97e1a",
   "metadata": {},
   "outputs": [],
   "source": [
    "df['v2'] = df.apply(lambda row: ' '.join(filter(None, [\n",
    "    str(row['v2']),\n",
    "    str(row['Unnamed: 2']) if pd.notna(row['Unnamed: 2']) else None,\n",
    "    str(row['Unnamed: 3']) if pd.notna(row['Unnamed: 3']) else None,\n",
    "    str(row['Unnamed: 4']) if pd.notna(row['Unnamed: 4']) else None\n",
    "])), axis=1)"
   ]
  },
  {
   "cell_type": "code",
   "execution_count": 38,
   "id": "7f8c949e-b925-408d-9551-8a5736774f3c",
   "metadata": {},
   "outputs": [],
   "source": [
    "df.drop(columns=['Unnamed: 4', 'Unnamed: 3', 'Unnamed: 2'], inplace=True)"
   ]
  },
  {
   "cell_type": "code",
   "execution_count": 39,
   "id": "18bdbb05-c42c-4675-af39-c6858f79245a",
   "metadata": {},
   "outputs": [
    {
     "data": {
      "text/html": [
       "<div>\n",
       "<style scoped>\n",
       "    .dataframe tbody tr th:only-of-type {\n",
       "        vertical-align: middle;\n",
       "    }\n",
       "\n",
       "    .dataframe tbody tr th {\n",
       "        vertical-align: top;\n",
       "    }\n",
       "\n",
       "    .dataframe thead th {\n",
       "        text-align: right;\n",
       "    }\n",
       "</style>\n",
       "<table border=\"1\" class=\"dataframe\">\n",
       "  <thead>\n",
       "    <tr style=\"text-align: right;\">\n",
       "      <th></th>\n",
       "      <th>v1</th>\n",
       "      <th>v2</th>\n",
       "    </tr>\n",
       "  </thead>\n",
       "  <tbody>\n",
       "    <tr>\n",
       "      <th>1132</th>\n",
       "      <td>ham</td>\n",
       "      <td>Good morning princess! How are you?</td>\n",
       "    </tr>\n",
       "    <tr>\n",
       "      <th>1502</th>\n",
       "      <td>ham</td>\n",
       "      <td>Don no da:)whats you plan?</td>\n",
       "    </tr>\n",
       "    <tr>\n",
       "      <th>1053</th>\n",
       "      <td>ham</td>\n",
       "      <td>Jay's getting really impatient and belligerent</td>\n",
       "    </tr>\n",
       "    <tr>\n",
       "      <th>304</th>\n",
       "      <td>spam</td>\n",
       "      <td>SMS. ac Blind Date 4U!: Rodds1 is 21/m from Ab...</td>\n",
       "    </tr>\n",
       "    <tr>\n",
       "      <th>1158</th>\n",
       "      <td>ham</td>\n",
       "      <td>Hey! There's veggie pizza... :/</td>\n",
       "    </tr>\n",
       "    <tr>\n",
       "      <th>2041</th>\n",
       "      <td>ham</td>\n",
       "      <td>?? dun wan to watch infernal affair?</td>\n",
       "    </tr>\n",
       "    <tr>\n",
       "      <th>1114</th>\n",
       "      <td>ham</td>\n",
       "      <td>No no:)this is kallis home ground.amla home to...</td>\n",
       "    </tr>\n",
       "    <tr>\n",
       "      <th>2216</th>\n",
       "      <td>ham</td>\n",
       "      <td>OK i'm waliking ard now... Do u wan me 2 buy a...</td>\n",
       "    </tr>\n",
       "    <tr>\n",
       "      <th>1121</th>\n",
       "      <td>spam</td>\n",
       "      <td>Do you want 750 anytime any network mins 150 t...</td>\n",
       "    </tr>\n",
       "    <tr>\n",
       "      <th>2655</th>\n",
       "      <td>ham</td>\n",
       "      <td>Great! I have to run now so ttyl!</td>\n",
       "    </tr>\n",
       "  </tbody>\n",
       "</table>\n",
       "</div>"
      ],
      "text/plain": [
       "        v1                                                 v2\n",
       "1132   ham                Good morning princess! How are you?\n",
       "1502   ham                         Don no da:)whats you plan?\n",
       "1053   ham     Jay's getting really impatient and belligerent\n",
       "304   spam  SMS. ac Blind Date 4U!: Rodds1 is 21/m from Ab...\n",
       "1158   ham                    Hey! There's veggie pizza... :/\n",
       "2041   ham               ?? dun wan to watch infernal affair?\n",
       "1114   ham  No no:)this is kallis home ground.amla home to...\n",
       "2216   ham  OK i'm waliking ard now... Do u wan me 2 buy a...\n",
       "1121  spam  Do you want 750 anytime any network mins 150 t...\n",
       "2655   ham                  Great! I have to run now so ttyl!"
      ]
     },
     "execution_count": 39,
     "metadata": {},
     "output_type": "execute_result"
    }
   ],
   "source": [
    "df.sample(10)"
   ]
  },
  {
   "cell_type": "code",
   "execution_count": null,
   "id": "dad5485d-7afa-4f93-b92d-bccaa6513e3f",
   "metadata": {},
   "outputs": [],
   "source": []
  },
  {
   "cell_type": "code",
   "execution_count": 41,
   "id": "f9d833fd-7889-4d22-b249-38c0c5b9efb6",
   "metadata": {},
   "outputs": [
    {
     "data": {
      "text/plain": [
       "403"
      ]
     },
     "execution_count": 41,
     "metadata": {},
     "output_type": "execute_result"
    }
   ],
   "source": [
    "df.duplicated().sum()"
   ]
  },
  {
   "cell_type": "code",
   "execution_count": 42,
   "id": "aa03c02f-9a58-47f7-bb63-8fafc5561c54",
   "metadata": {},
   "outputs": [],
   "source": [
    "label = LabelEncoder()\n",
    "df['v1'] = label.fit_transform(df['v1'])"
   ]
  },
  {
   "cell_type": "code",
   "execution_count": 43,
   "id": "df068606-c031-46b6-bd02-6c4bd2910c7b",
   "metadata": {},
   "outputs": [],
   "source": [
    "df = df.drop_duplicates(keep='first')"
   ]
  },
  {
   "cell_type": "code",
   "execution_count": 44,
   "id": "9c27477e-9d85-41ce-b8b3-ac253649282b",
   "metadata": {},
   "outputs": [
    {
     "data": {
      "text/plain": [
       "0"
      ]
     },
     "execution_count": 44,
     "metadata": {},
     "output_type": "execute_result"
    }
   ],
   "source": [
    "df.duplicated().sum()"
   ]
  },
  {
   "cell_type": "code",
   "execution_count": 48,
   "id": "362acf6b-ad2a-4645-b643-5ae134c956aa",
   "metadata": {},
   "outputs": [
    {
     "data": {
      "image/png": "[encoded data removed]",
      "text/plain": [
       "<Figure size 640x480 with 1 Axes>"
      ]
     },
     "metadata": {},
     "output_type": "display_data"
    }
   ],
   "source": [
    "a = sns.barplot(x=df['v1'].value_counts().index, y=df['v1'].value_counts().values)"
   ]
  },
  {
   "cell_type": "code",
   "execution_count": 49,
   "id": "366bca95-3c5d-44a0-9f4a-7fc471b49834",
   "metadata": {},
   "outputs": [],
   "source": [
    "X = df['v2']\n",
    "y = df['v1']"
   ]
  },
  {
   "cell_type": "code",
   "execution_count": 52,
   "id": "8dc6c94b-47c7-46cc-9f91-27eec0b5ecee",
   "metadata": {},
   "outputs": [],
   "source": [
    "X_train, X_test, y_train, y_test = train_test_split(X,y,random_state=1, test_size=0.2)"
   ]
  },
  {
   "cell_type": "code",
   "execution_count": 55,
   "id": "e7b63ac1-204f-4853-aea6-b00b60f63263",
   "metadata": {},
   "outputs": [],
   "source": [
    "from sklearn.feature_extraction.text import TfidfVectorizer\n",
    "\n",
    "features = TfidfVectorizer(min_df=1, stop_words='english', lowercase=True)"
   ]
  },
  {
   "cell_type": "code",
   "execution_count": 56,
   "id": "a3b7e159-3b6c-49cc-b639-a15067872cfc",
   "metadata": {},
   "outputs": [],
   "source": [
    "X_train_feature = features.fit_transform(X_train)\n",
    "X_test_feature = features.transform(X_test)"
   ]
  },
  {
   "cell_type": "code",
   "execution_count": null,
   "id": "4c81f3f9-c352-425a-aa1a-2e3dc05dbe67",
   "metadata": {},
   "outputs": [],
   "source": []
  },
  {
   "cell_type": "code",
   "execution_count": 60,
   "id": "4cbccbbc-4d0c-4288-a339-fa471d0c9577",
   "metadata": {},
   "outputs": [],
   "source": [
    "models = {\n",
    "    'Random Forest': RandomForestClassifier(),\n",
    "    'Logistic Regression': LogisticRegression(), \n",
    "    'KNeighbors Classifier': KNeighborsClassifier(),\n",
    "    'Decision Tree': DecisionTreeClassifier(),\n",
    "    'Support vector': SVC()\n",
    "}\n",
    "\n",
    "model_result = {}\n",
    "for model_name, model in models.items():\n",
    "    model.fit(X_train_feature,y_train)\n",
    "    y_pred = model.predict(X_test_feature)\n",
    "\n",
    "    accuracy = accuracy_score(y_test, y_pred)\n",
    "\n",
    "    model_result[model_name] = accuracy   "
   ]
  },
  {
   "cell_type": "code",
   "execution_count": 61,
   "id": "8066f623-2681-4739-b0f3-538f24bebb7d",
   "metadata": {},
   "outputs": [
    {
     "data": {
      "text/html": [
       "<div>\n",
       "<style scoped>\n",
       "    .dataframe tbody tr th:only-of-type {\n",
       "        vertical-align: middle;\n",
       "    }\n",
       "\n",
       "    .dataframe tbody tr th {\n",
       "        vertical-align: top;\n",
       "    }\n",
       "\n",
       "    .dataframe thead th {\n",
       "        text-align: right;\n",
       "    }\n",
       "</style>\n",
       "<table border=\"1\" class=\"dataframe\">\n",
       "  <thead>\n",
       "    <tr style=\"text-align: right;\">\n",
       "      <th></th>\n",
       "      <th>Model</th>\n",
       "      <th>Accuracy Score</th>\n",
       "    </tr>\n",
       "  </thead>\n",
       "  <tbody>\n",
       "    <tr>\n",
       "      <th>0</th>\n",
       "      <td>Random Forest</td>\n",
       "      <td>0.966151</td>\n",
       "    </tr>\n",
       "    <tr>\n",
       "      <th>1</th>\n",
       "      <td>Logistic Regression</td>\n",
       "      <td>0.943907</td>\n",
       "    </tr>\n",
       "    <tr>\n",
       "      <th>2</th>\n",
       "      <td>KNeighbors Classifier</td>\n",
       "      <td>0.903288</td>\n",
       "    </tr>\n",
       "    <tr>\n",
       "      <th>3</th>\n",
       "      <td>Decision Tree</td>\n",
       "      <td>0.943907</td>\n",
       "    </tr>\n",
       "    <tr>\n",
       "      <th>4</th>\n",
       "      <td>Support vector</td>\n",
       "      <td>0.966151</td>\n",
       "    </tr>\n",
       "  </tbody>\n",
       "</table>\n",
       "</div>"
      ],
      "text/plain": [
       "                   Model  Accuracy Score\n",
       "0          Random Forest        0.966151\n",
       "1    Logistic Regression        0.943907\n",
       "2  KNeighbors Classifier        0.903288\n",
       "3          Decision Tree        0.943907\n",
       "4         Support vector        0.966151"
      ]
     },
     "execution_count": 61,
     "metadata": {},
     "output_type": "execute_result"
    }
   ],
   "source": [
    "pd.DataFrame(model_result.items(), columns=['Model', 'Accuracy Score'])"
   ]
  },
  {
   "cell_type": "markdown",
   "id": "21b1ae7e-bc2e-42fd-a493-b8a23718a2f2",
   "metadata": {},
   "source": [
    "96% accuracy in RandomForestClassifier and Support vector calssifier"
   ]
  },
  {
   "cell_type": "markdown",
   "id": "a1d70442-5ecd-48f3-a226-84b845f643e0",
   "metadata": {},
   "source": [
    "Classification report for svm and randomforest"
   ]
  },
  {
   "cell_type": "code",
   "execution_count": 62,
   "id": "278af21c-757d-404a-a32f-08bf3a78cab0",
   "metadata": {},
   "outputs": [],
   "source": [
    "knn_model = KNeighborsClassifier()\n",
    "svm_model = SVC()"
   ]
  },
  {
   "cell_type": "code",
   "execution_count": 64,
   "id": "b46704be-ced6-40c1-bb1f-3540c3314535",
   "metadata": {},
   "outputs": [],
   "source": [
    "knn_model.fit(X_train_feature, y_train)\n",
    "knn_pred = knn_model.predict(X_test_feature)"
   ]
  },
  {
   "cell_type": "code",
   "execution_count": 65,
   "id": "2e25f804-34e8-4302-bc95-2ab1f5dfb8c9",
   "metadata": {},
   "outputs": [
    {
     "name": "stdout",
     "output_type": "stream",
     "text": [
      "KNeighbors Classifier Classification Report:\n",
      "              precision    recall  f1-score   support\n",
      "\n",
      "           0       0.90      1.00      0.95       899\n",
      "           1       1.00      0.26      0.41       135\n",
      "\n",
      "    accuracy                           0.90      1034\n",
      "   macro avg       0.95      0.63      0.68      1034\n",
      "weighted avg       0.91      0.90      0.88      1034\n",
      "\n"
     ]
    }
   ],
   "source": [
    "print('KNeighbors Classifier Classification Report:')\n",
    "print(classification_report(y_test, knn_pred))"
   ]
  },
  {
   "cell_type": "code",
   "execution_count": 66,
   "id": "71f3f312-96ca-4631-a760-a232da71479c",
   "metadata": {},
   "outputs": [],
   "source": [
    "svm_model.fit(X_train_feature, y_train)\n",
    "svm_pred = svm_model.predict(X_test_feature)"
   ]
  },
  {
   "cell_type": "code",
   "execution_count": 67,
   "id": "c0c029f9-3dc9-4b56-a09a-4b8a49492b07",
   "metadata": {},
   "outputs": [
    {
     "name": "stdout",
     "output_type": "stream",
     "text": [
      "SVM Classification Report:\n",
      "              precision    recall  f1-score   support\n",
      "\n",
      "           0       0.97      1.00      0.98       899\n",
      "           1       0.97      0.76      0.85       135\n",
      "\n",
      "    accuracy                           0.97      1034\n",
      "   macro avg       0.97      0.88      0.92      1034\n",
      "weighted avg       0.97      0.97      0.96      1034\n",
      "\n"
     ]
    }
   ],
   "source": [
    "print('SVM Classification Report:')\n",
    "print(classification_report(y_test, svm_pred))"
   ]
  },
  {
   "cell_type": "code",
   "execution_count": null,
   "id": "64bf137c-b449-4bff-ad42-3b433cc19058",
   "metadata": {},
   "outputs": [],
   "source": []
  }
 ],
 "metadata": {
  "kernelspec": {
   "display_name": "Python 3 (ipykernel)",
   "language": "python",
   "name": "python3"
  },
  "language_info": {
   "codemirror_mode": {
    "name": "ipython",
    "version": 3
   },
   "file_extension": ".py",
   "mimetype": "text/x-python",
   "name": "python",
   "nbconvert_exporter": "python",
   "pygments_lexer": "ipython3",
   "version": "3.12.4"
  }
 },
 "nbformat": 4,
 "nbformat_minor": 5
}
